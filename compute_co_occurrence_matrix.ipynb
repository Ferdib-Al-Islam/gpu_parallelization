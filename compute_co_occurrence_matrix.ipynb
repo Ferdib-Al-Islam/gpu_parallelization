{
  "nbformat": 4,
  "nbformat_minor": 0,
  "metadata": {
    "colab": {
      "name": "compute_co-occurrence_matrix.ipynb",
      "provenance": [],
      "collapsed_sections": [],
      "include_colab_link": true
    },
    "kernelspec": {
      "name": "python3",
      "display_name": "Python 3"
    },
    "accelerator": "GPU"
  },
  "cells": [
    {
      "cell_type": "markdown",
      "metadata": {
        "id": "view-in-github",
        "colab_type": "text"
      },
      "source": [
        "<a href=\"https://colab.research.google.com/github/Ferdib-Al-Islam/gpu_parallelization/blob/master/compute_co_occurrence_matrix.ipynb\" target=\"_parent\"><img src=\"https://colab.research.google.com/assets/colab-badge.svg\" alt=\"Open In Colab\"/></a>"
      ]
    },
    {
      "cell_type": "code",
      "metadata": {
        "id": "YzubhGcwet4h",
        "colab_type": "code",
        "outputId": "f4484202-703f-4959-ded1-5bddd664b7c4",
        "colab": {
          "base_uri": "https://localhost:8080/",
          "height": 90
        }
      },
      "source": [
        "!nvcc --version"
      ],
      "execution_count": 0,
      "outputs": [
        {
          "output_type": "stream",
          "text": [
            "nvcc: NVIDIA (R) Cuda compiler driver\n",
            "Copyright (c) 2005-2018 NVIDIA Corporation\n",
            "Built on Sat_Aug_25_21:08:01_CDT_2018\n",
            "Cuda compilation tools, release 10.0, V10.0.130\n"
          ],
          "name": "stdout"
        }
      ]
    },
    {
      "cell_type": "code",
      "metadata": {
        "id": "sEGHYoLje1NT",
        "colab_type": "code",
        "outputId": "39983e77-0bab-4d14-8488-d59fba4169df",
        "colab": {
          "base_uri": "https://localhost:8080/",
          "height": 202
        }
      },
      "source": [
        "!pip install git+git://github.com/andreinechaev/nvcc4jupyter.git"
      ],
      "execution_count": 0,
      "outputs": [
        {
          "output_type": "stream",
          "text": [
            "Collecting git+git://github.com/andreinechaev/nvcc4jupyter.git\n",
            "  Cloning git://github.com/andreinechaev/nvcc4jupyter.git to /tmp/pip-req-build-6ubwctra\n",
            "  Running command git clone -q git://github.com/andreinechaev/nvcc4jupyter.git /tmp/pip-req-build-6ubwctra\n",
            "Building wheels for collected packages: NVCCPlugin\n",
            "  Building wheel for NVCCPlugin (setup.py) ... \u001b[?25l\u001b[?25hdone\n",
            "  Stored in directory: /tmp/pip-ephem-wheel-cache-9hctsh1w/wheels/10/c2/05/ca241da37bff77d60d31a9174f988109c61ba989e4d4650516\n",
            "Successfully built NVCCPlugin\n",
            "Installing collected packages: NVCCPlugin\n",
            "Successfully installed NVCCPlugin-0.0.2\n"
          ],
          "name": "stdout"
        }
      ]
    },
    {
      "cell_type": "code",
      "metadata": {
        "id": "3HsxjMxqe9gs",
        "colab_type": "code",
        "outputId": "32a9887a-301b-4a10-e457-462e21d56ab4",
        "colab": {
          "base_uri": "https://localhost:8080/",
          "height": 54
        }
      },
      "source": [
        "%load_ext nvcc_plugin"
      ],
      "execution_count": 0,
      "outputs": [
        {
          "output_type": "stream",
          "text": [
            "The nvcc_plugin extension is already loaded. To reload it, use:\n",
            "  %reload_ext nvcc_plugin\n"
          ],
          "name": "stdout"
        }
      ]
    },
    {
      "cell_type": "markdown",
      "metadata": {
        "id": "IA6fCa_4bGKH",
        "colab_type": "text"
      },
      "source": [
        ""
      ]
    },
    {
      "cell_type": "code",
      "metadata": {
        "id": "WH12TVr-E1hT",
        "colab_type": "code",
        "outputId": "f8b5e4a2-e50d-42f7-8f18-55c54cf871e1",
        "colab": {
          "base_uri": "https://localhost:8080/",
          "height": 55
        }
      },
      "source": [
        "%%cu\n",
        "\n",
        "#include <stdio.h>\n",
        "#include <stdlib.h>\n",
        "#include <string.h>\n",
        "#include <ctype.h>\n",
        "\n",
        "\n",
        "\n",
        "__device__ char* own_strcat(char *strg1, char *strg2)\n",
        "{\n",
        "    char *start = strg1;\n",
        " \n",
        "    while(*strg1 != '\\0')\n",
        "    {\n",
        "        strg1++;\n",
        "    }\n",
        " \n",
        "    while(*strg2 != '\\0')\n",
        "    {\n",
        "        *strg1 = *strg2;\n",
        "        strg1++;\n",
        "        strg2++;\n",
        "    }\n",
        " \n",
        "    *strg1 = '\\0';\n",
        "    return start;\n",
        "}\n",
        "\n",
        "\n",
        "__device__ char* own_strcpy(char *destination, char *source)\n",
        "{\n",
        "    char *start = destination;\n",
        " \n",
        "    while(*source != '\\0')\n",
        "    {\n",
        "        *destination = *source;\n",
        "        destination++;\n",
        "        source++;\n",
        "    }\n",
        " \n",
        "    *destination = '\\0'; \n",
        "    return start;\n",
        "}\n",
        "\n",
        "__device__ int own_strcmp(char *strg1, char *strg2)\n",
        "{\n",
        "    while( ( *strg1 != '\\0' && *strg2 != '\\0' ) && *strg1 == *strg2 )\n",
        "    {\n",
        "        strg1++;\n",
        "        strg2++;\n",
        "    }\n",
        " \n",
        "    if(*strg1 == *strg2)\n",
        "    {\n",
        "        return 0; \n",
        "    }\n",
        " \n",
        "    else\n",
        "    {\n",
        "        return *strg1 - *strg2;\n",
        "    }\n",
        "}\n",
        "\n",
        "__global__ void co_matrix(char **k_words, int k_index, char **k_neighbours, int k_neighbours_index){\n",
        "    int i, j, k;\n",
        "    int occurance_count;\n",
        "    char co_occur_matrix[200];\n",
        "    \n",
        "    i = blockIdx.x; \n",
        "    \n",
        "    for (j=0; j<k_index; j++)\n",
        "    {\n",
        "        char w_i[200];\n",
        "        own_strcpy(w_i, k_words[i]);\n",
        "\n",
        "        own_strcat(w_i, \" & \");\n",
        "\n",
        "        char w_j[200];\n",
        "        own_strcpy(w_j, k_words[j]);\n",
        "        own_strcpy(co_occur_matrix, own_strcat(w_i, w_j));       \n",
        "\n",
        "        occurance_count=0;\n",
        "\n",
        "        for(k=0;k<k_neighbours_index;k++){\n",
        "            if(own_strcmp(co_occur_matrix, k_neighbours[k]) == 0){\n",
        "                occurance_count++;\n",
        "            }\n",
        "        }\n",
        "        printf(\"%s --> %d, \", co_occur_matrix, occurance_count);\n",
        "    } \n",
        "}\n",
        "\n",
        "int main()\n",
        "{\n",
        "    int max_words = 1000;\n",
        "    FILE *f;\n",
        "    int i;\n",
        "    int distinct;\n",
        "    int index;\n",
        "    int side_index;\n",
        "    \n",
        "    \n",
        "    char **side;   \n",
        "    side =  (char**) malloc (max_words*10*sizeof(char*)); \n",
        "    \n",
        "    char word[200];\n",
        "    side_index = 0;\n",
        "    f = fopen(\"input.txt\", \"r\");\n",
        "    char store_prev_val[10][200];\n",
        "    strcpy(store_prev_val[0], \"\");\n",
        "    while (fscanf(f, \"%s\", word) != EOF)\n",
        "    {            \n",
        "        char w_i[200]=\"\";\n",
        "        side =  (char**) realloc (side, (side_index+1)*sizeof(char*));\n",
        "        *(side+side_index) =  (char*) malloc (200*sizeof(char)); \n",
        "        strcat(w_i, store_prev_val[0]);\n",
        "        strcat(w_i, \" & \");\n",
        "        strcat(w_i, word);\n",
        "        strcpy(store_prev_val[0], word);\n",
        "        strcpy(*(side+side_index), w_i);\n",
        "        side_index++;\n",
        "    }\n",
        "\n",
        "    fclose(f);\n",
        "    \n",
        "    \n",
        "    char **words;\n",
        "    words =  (char**) malloc (max_words*sizeof(char*));    \n",
        "  \n",
        "   \n",
        "    char punct[5];\n",
        "          \n",
        "    \n",
        "    f = fopen(\"input.txt\", \"r\");\n",
        "    index = 0;\n",
        "    \n",
        "    while (fscanf(f, \"%s\", word) != EOF)\n",
        "    {\n",
        "        int len=strlen(word);\n",
        "        if(ispunct(word[len-1])){\n",
        "            word[len-1]='\\0';\n",
        "        }\n",
        "        distinct = 1;\n",
        "        for (i=0; i<index && distinct; i++)\n",
        "        {\n",
        "            if (strcmp(words[i], word) == 0)\n",
        "                distinct = 0;\n",
        "        }\n",
        "\n",
        "        if (distinct) \n",
        "        {\n",
        "            words =  (char**) realloc (words, (index+1)*sizeof(char*));\n",
        "            *(words+index) =  (char*) malloc (200*sizeof(char)); \n",
        "            strcpy(*(words+index), word);\n",
        "            index++;\n",
        "        }\n",
        "    }\n",
        "\n",
        "    fclose(f);\n",
        "    \n",
        "   \n",
        "    char **device_side;\n",
        "       \n",
        "   \n",
        "    cudaMalloc((void**)&device_side, side_index*sizeof(char*));\n",
        "    \n",
        "    for(i=0;i<side_index;i++){\n",
        "        char *temp;\n",
        "        cudaMalloc((void**)&(temp), 200*sizeof(char));\n",
        "        cudaMemcpy(temp, *(side+i), 200*sizeof(char), cudaMemcpyHostToDevice);\n",
        "        cudaMemcpy(device_side+i, &temp, sizeof(char*), cudaMemcpyHostToDevice);\n",
        "    }\n",
        "    \n",
        "    \n",
        "    char **device_words;\n",
        "    cudaMalloc((void**)&device_words, index*sizeof(char*));\n",
        "   \n",
        "    \n",
        "    for(i=0;i<index;i++){\n",
        "        char *temp;\n",
        "        cudaMalloc((void**)&(temp), 200*sizeof(char));\n",
        "        cudaMemcpy(temp, *(words+i), 200*sizeof(char), cudaMemcpyHostToDevice);\n",
        "        cudaMemcpy(device_words+i, &temp, sizeof(char*), cudaMemcpyHostToDevice);\n",
        "    }\n",
        "    \n",
        "    \n",
        "    co_matrix <<<index,1>>>(device_words, index, device_side, side_index);\n",
        "    \n",
        "    \n",
        "    cudaDeviceReset();\n",
        "    return 0;\n",
        "}"
      ],
      "execution_count": 0,
      "outputs": [
        {
          "output_type": "execute_result",
          "data": {
            "text/plain": [
              "'I & I --> 0, deep & I --> 0, eat & I --> 0, rice & I --> 0, potato & I --> 0, like & I --> 0, learning & I --> 0, programming & I --> 0, deep & like --> 0, I & like --> 2, eat & like --> 0, potato & like --> 0, rice & like --> 0, like & like --> 0, learning & like --> 0, programming & like --> 0, deep & deep --> 0, I & deep --> 0, potato & deep --> 0, rice & deep --> 0, eat & deep --> 0, like & deep --> 1, learning & deep --> 0, programming & deep --> 0, deep & learning --> 0, I & learning --> 0, potato & learning --> 0, rice & learning --> 0, eat & learning --> 0, like & learning --> 0, learning & learning --> 0, programming & learning --> 0, deep & programming --> 0, I & programming --> 0, potato & programming --> 0, rice & programming --> 0, eat & programming --> 0, learning & programming --> 0, like & programming --> 0, programming & programming --> 0, deep & eat --> 0, I & eat --> 2, potato & eat --> 0, rice & eat --> 0, eat & eat --> 0, like & eat --> 0, learning & eat --> 0, programming & eat --> 0, deep & rice --> 0, I & rice --> 0, potato & rice --> 0, rice & rice --> 0, eat & rice --> 0, like & rice --> 0, learning & rice --> 0, programming & rice --> 0, deep & potato --> 0, I & potato --> 0, potato & potato --> 0, rice & potato --> 0, eat & potato --> 0, like & potato --> 0, learning & potato --> 0, programming & potato --> 0, '"
            ]
          },
          "metadata": {
            "tags": []
          },
          "execution_count": 19
        }
      ]
    },
    {
      "cell_type": "markdown",
      "metadata": {
        "id": "v0TjciyBaWEx",
        "colab_type": "text"
      },
      "source": [
        ""
      ]
    },
    {
      "cell_type": "code",
      "metadata": {
        "id": "1e0MDKr9E8gm",
        "colab_type": "code",
        "colab": {}
      },
      "source": [
        ""
      ],
      "execution_count": 0,
      "outputs": []
    }
  ]
}